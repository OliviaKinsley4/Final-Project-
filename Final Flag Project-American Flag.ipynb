{
 "cells": [
  {
   "cell_type": "code",
   "execution_count": 1,
   "id": "489f633c",
   "metadata": {},
   "outputs": [
    {
     "data": {
      "text/plain": [
       "<bound method TPen.penup of <turtle.Turtle object at 0x7fa38642f4f0>>"
      ]
     },
     "execution_count": 1,
     "metadata": {},
     "output_type": "execute_result"
    }
   ],
   "source": [
    "import turtle\n",
    "import time\n",
    "\n",
    "scr = turtle.getscreen()\n",
    "scr.title(\"Flag of America\")\n",
    "scr.bgcolor(\"white\")\n",
    "t = turtle.Turtle()\n",
    "t.speed(20)\n",
    "t.penup"
   ]
  },
  {
   "cell_type": "code",
   "execution_count": 2,
   "id": "01774e0b",
   "metadata": {},
   "outputs": [],
   "source": [
    "def draw_rectangle(x, y, height, width, color):\n",
    "    t.goto(x,y)\n",
    "    t.pendown()\n",
    "    t.color(color)\n",
    "    t.begin_fill()\n",
    "    t.forward(width)\n",
    "    t.right(90)\n",
    "    t.forward(height)\n",
    "    t.right(90)\n",
    "    t.forward(width)\n",
    "    t.right(90)\n",
    "    t.forward(height)\n",
    "    t.right(90)\n",
    "    t.end_fill()\n",
    "    t.penup()"
   ]
  },
  {
   "cell_type": "code",
   "execution_count": 3,
   "id": "fc780db6",
   "metadata": {},
   "outputs": [],
   "source": [
    "def draw_star(x, y, color, length):\n",
    "    t.goto(x,y)\n",
    "    t.setheading(0)\n",
    "    t.pendown()\n",
    "    t.begin_fill()\n",
    "    t.color(color)\n",
    "    for turn in range(0,5) :\n",
    "        t.forward(length)\n",
    "        t.right(144)\n",
    "        t.forward(length)\n",
    "        t.right(144)\n",
    "    t.end_fill()\n",
    "    t.penup()"
   ]
  },
  {
   "cell_type": "code",
   "execution_count": 4,
   "id": "1a46bb6f",
   "metadata": {},
   "outputs": [],
   "source": [
    "def draw_stripes(x, y, flag_ht):\n",
    "    flag_wth = flag_ht*1.5\n",
    "    stripe_ht = flag_ht/13\n",
    "    stripe_wth = flag_wth\n",
    "    for stripe in range(0,6):\n",
    "        for color in [\"Dark red\", \"white\"]:\n",
    "            draw_rectangle(x, y, stripe_ht, stripe_wth, color)\n",
    "            y = y - stripe_ht\n",
    "    draw_rectangle(x, y, stripe_ht, stripe_wth, 'Dark red')\n",
    "    y = y - stripe_ht"
   ]
  },
  {
   "cell_type": "code",
   "execution_count": 5,
   "id": "8368fd1b",
   "metadata": {},
   "outputs": [],
   "source": [
    "def draw_square(x, y, flag_ht):\n",
    "    square_ht = (7/13) * flag_ht\n",
    "    square_wth = (0.76) * flag_ht\n",
    "    draw_rectangle(x, y, square_ht, square_wth, 'navy') "
   ]
  },
  {
   "cell_type": "code",
   "execution_count": 6,
   "id": "b982ba07",
   "metadata": {},
   "outputs": [],
   "source": [
    "def Star1(x, y, flag_ht):\n",
    "    stripe_ht = flag_ht/13\n",
    "    dist_of_stars = 30\n",
    "    dist_bet_lines = stripe_ht + 6\n",
    "    y = 112\n",
    "    for row in range(0,5) :\n",
    "        x = -234\n",
    "        for star in range (0,6) :\n",
    "            star_size = 13\n",
    "            draw_star(x, y, 'white', star_size)\n",
    "            x = x + dist_of_stars\n",
    "        y = y - dist_bet_lines "
   ]
  },
  {
   "cell_type": "code",
   "execution_count": 7,
   "id": "30732027",
   "metadata": {},
   "outputs": [],
   "source": [
    "def stars_five(x, y, flag_ht):\n",
    "    star_size = 13\n",
    "    stripe_ht = flag_ht/13\n",
    "    dist_of_stars = 30\n",
    "    dist_bet_lines = stripe_ht + 6\n",
    "    y = 100\n",
    "    for row in range(0,4) :\n",
    "        x = -217\n",
    "        for star in range (0,5) :\n",
    "            draw_star(x, y, 'white', star_size)\n",
    "            x = x + dist_of_stars\n",
    "        y = y - dist_bet_lines"
   ]
  },
  {
   "cell_type": "code",
   "execution_count": 8,
   "id": "1840e622",
   "metadata": {},
   "outputs": [],
   "source": [
    "def draw_flag(x, y, flag_ht):\n",
    "    draw_stripes(x, y, flag_ht)\n",
    "    draw_square(x, y, flag_ht)\n",
    "    Star1(x, y, flag_ht)\n",
    "    stars_five(x, y, flag_ht)"
   ]
  },
  {
   "cell_type": "code",
   "execution_count": 9,
   "id": "68bc3fa9",
   "metadata": {},
   "outputs": [],
   "source": [
    "def main():\n",
    "    flag_ht = 250\n",
    "    x = -250\n",
    "    y = 120\n",
    "    time.sleep(5)\n",
    "    draw_flag(x, y, flag_ht)\n",
    "    t.hideturtle()"
   ]
  },
  {
   "cell_type": "code",
   "execution_count": 10,
   "id": "95af5306",
   "metadata": {},
   "outputs": [],
   "source": [
    "main()"
   ]
  }
 ],
 "metadata": {
  "kernelspec": {
   "display_name": "Python 3 (ipykernel)",
   "language": "python",
   "name": "python3"
  },
  "language_info": {
   "codemirror_mode": {
    "name": "ipython",
    "version": 3
   },
   "file_extension": ".py",
   "mimetype": "text/x-python",
   "name": "python",
   "nbconvert_exporter": "python",
   "pygments_lexer": "ipython3",
   "version": "3.9.12"
  }
 },
 "nbformat": 4,
 "nbformat_minor": 5
}
