{
 "cells": [
  {
   "cell_type": "code",
   "execution_count": 1,
   "id": "f2d2c07d",
   "metadata": {},
   "outputs": [
    {
     "data": {
      "text/plain": [
       "<bound method TPen.penup of <turtle.Turtle object at 0x7ff21452adc0>>"
      ]
     },
     "execution_count": 1,
     "metadata": {},
     "output_type": "execute_result"
    }
   ],
   "source": [
    "import turtle\n",
    "import time\n",
    "\n",
    "scr = turtle.getscreen()\n",
    "scr.title(\"Flag of The Netherlands\")\n",
    "scr.bgcolor(\"white\")\n",
    "t = turtle.Turtle()\n",
    "t.speed(20)\n",
    "t.penup"
   ]
  },
  {
   "cell_type": "code",
   "execution_count": 2,
   "id": "a5de1487",
   "metadata": {},
   "outputs": [],
   "source": [
    "def draw_rectangle(x, y, height, width, color):\n",
    "    t.goto(x,y)\n",
    "    t.pendown()\n",
    "    t.color(color)\n",
    "    t.begin_fill()\n",
    "    t.forward(width)\n",
    "    t.right(90)\n",
    "    t.forward(height)\n",
    "    t.right(90)\n",
    "    t.forward(width)\n",
    "    t.right(90)\n",
    "    t.forward(height)\n",
    "    t.right(90)\n",
    "    t.end_fill()\n",
    "    t.penup()"
   ]
  },
  {
   "cell_type": "code",
   "execution_count": 3,
   "id": "4fb7056e",
   "metadata": {},
   "outputs": [],
   "source": [
    "def draw_stripes(x, y, flag_ht):\n",
    "    flag_wth = flag_ht*1.5\n",
    "    stripe_ht = flag_ht/3\n",
    "    stripe_wth = flag_wth\n",
    "    for stripe in range(0,1,2):\n",
    "        for color in [\"Dark red\", \"white\", \"Dark blue\"]:\n",
    "            draw_rectangle(x, y, stripe_ht, stripe_wth, color)\n",
    "            y = y - stripe_ht"
   ]
  },
  {
   "cell_type": "code",
   "execution_count": 4,
   "id": "a8fecda4",
   "metadata": {},
   "outputs": [],
   "source": [
    "def draw_flag(x, y, flag_ht):\n",
    "    draw_stripes(x, y, flag_ht)"
   ]
  },
  {
   "cell_type": "code",
   "execution_count": 5,
   "id": "ea4062cc",
   "metadata": {},
   "outputs": [],
   "source": [
    "def main():\n",
    "    flag_ht = 250\n",
    "    x = -250\n",
    "    y = 120\n",
    "    time.sleep(5)\n",
    "    draw_flag(x, y, flag_ht)\n",
    "    t.hideturtle()"
   ]
  },
  {
   "cell_type": "code",
   "execution_count": 6,
   "id": "43033852",
   "metadata": {},
   "outputs": [],
   "source": [
    "main()"
   ]
  },
  {
   "cell_type": "code",
   "execution_count": null,
   "id": "b755497d",
   "metadata": {},
   "outputs": [],
   "source": []
  }
 ],
 "metadata": {
  "kernelspec": {
   "display_name": "Python 3 (ipykernel)",
   "language": "python",
   "name": "python3"
  },
  "language_info": {
   "codemirror_mode": {
    "name": "ipython",
    "version": 3
   },
   "file_extension": ".py",
   "mimetype": "text/x-python",
   "name": "python",
   "nbconvert_exporter": "python",
   "pygments_lexer": "ipython3",
   "version": "3.9.12"
  }
 },
 "nbformat": 4,
 "nbformat_minor": 5
}
